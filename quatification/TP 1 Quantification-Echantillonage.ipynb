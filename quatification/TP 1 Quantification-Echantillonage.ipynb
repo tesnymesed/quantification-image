{
 "cells": [
  {
   "cell_type": "markdown",
   "metadata": {},
   "source": [
    "Binomes : seddiki tesnyme \n",
    "          benlarbi nesrine "
   ]
  },
  {
   "cell_type": "markdown",
   "metadata": {},
   "source": [
    "# 1- Importantion des librairies necessaires au travail"
   ]
  },
  {
   "cell_type": "code",
   "execution_count": 161,
   "metadata": {},
   "outputs": [],
   "source": [
    "import numpy as np\n",
    "import cv2\n",
    "import matplotlib.pyplot as plt"
   ]
  },
  {
   "cell_type": "markdown",
   "metadata": {},
   "source": [
    "# Lecture des fichiers d'amplitude et coordonnées"
   ]
  },
  {
   "cell_type": "code",
   "execution_count": 162,
   "metadata": {},
   "outputs": [],
   "source": [
    "file=open(\"Cols1.npy\",\"rb\")\n",
    "file1=open(\"lines1.npy\",\"rb\")\n",
    "file2=open(\"amplitude1.npy\",\"rb\")\n",
    "\n",
    "liste =np.load(file)\n",
    "liste1 =np.load(file1)\n",
    "liste2=np.load(file2)\n",
    "print(liste2)"
   ]
  },
  {
   "cell_type": "markdown",
   "metadata": {},
   "source": [
    "# Echantillonage"
   ]
  },
  {
   "cell_type": "code",
   "execution_count": 163,
   "metadata": {},
   "outputs": [],
   "source": [
    "\n",
    "width=len(liste)\n",
    "height=len(liste1)\n",
    "width_matrice=int(width/5+width%5)\n",
    "height_matrice=int(height/5+height%5)\n",
    "matrice = np.ones ((height_matrice ,width_matrice))\n",
    "\n",
    "i=0 \n",
    "x=0\n",
    "while i< height :\n",
    "    j=0 \n",
    "    y=0\n",
    "    while j <width :\n",
    "        pos_x= int(liste1[i]*1000)\n",
    "        pos_y=int(liste[j]*1000)\n",
    "        matrice[x][y]=int(liste2[pos_x][pos_y])\n",
    "        j=j+5\n",
    "        y=y+1\n",
    "\n",
    "    x=x+1\n",
    "    i=i+5\n",
    "\n",
    "# réaliser l'échantillonage"
   ]
  },
  {
   "cell_type": "markdown",
   "metadata": {},
   "source": [
    "Fonction Grey pour le niveau de gris "
   ]
  },
  {
   "cell_type": "code",
   "execution_count": 164,
   "metadata": {},
   "outputs": [],
   "source": [
    "def grey (y, plage) :\n",
    "    t=len(plage)\n",
    "    find =False\n",
    "\n",
    "    val=-1\n",
    "\n",
    "    i=0\n",
    "\n",
    "    while  find==False  and i<t :\n",
    "        if y >= plage[i][0] and y<=plage[i][1] :\n",
    "            find =True\n",
    "            plage_val =plage[i]\n",
    "            val=plage_val[2]\n",
    "            \n",
    "    \n",
    "        i=i+1  \n",
    "\n",
    "     \n",
    "\n",
    "    return val         \n",
    "         \n",
    "\n"
   ]
  },
  {
   "cell_type": "markdown",
   "metadata": {},
   "source": [
    "# Quantification"
   ]
  },
  {
   "cell_type": "code",
   "execution_count": 165,
   "metadata": {},
   "outputs": [
    {
     "name": "stdout",
     "output_type": "stream",
     "text": [
      "[[0, 62, 0], [63, 124, 1], [125, 186, 2], [187, 248, 3], [249, 310, 4], [311, 372, 5], [373, 434, 6], [435, 496, 7], [497, 558, 8], [559, 620, 9], [621, 682, 10], [683, 744, 11], [745, 806, 12], [807, 868, 13], [869, 930, 14], [931, 1000.0, 15]]\n"
     ]
    }
   ],
   "source": [
    "nBits=4\n",
    "# calculer le nombre de niveaux de gris\n",
    "L= pow(2,nBits)\n",
    "#réaliser la quantification\n",
    "\n",
    "#trouver le min \n",
    "#trouver le max \n",
    "min =matrice [0][0]\n",
    "max =matrice [0][0]\n",
    "\n",
    "for i in range(height_matrice) :\n",
    "    for j in range(width_matrice):\n",
    "        if min > matrice[i][j]:\n",
    "            min = matrice[i][j]\n",
    "\n",
    "        if max < matrice [i][j]:\n",
    "            max =matrice[i][j]\n",
    "\n",
    "#print (\"voici le min=\", min)\n",
    "#print(\"voici le max =\", max)\n",
    "\n",
    "nbr =int(max /L)\n",
    "\n",
    "\n",
    "plage=[[0,nbr,0]]\n",
    "i=2\n",
    "\n",
    "while i<L:\n",
    "    \n",
    "    plage_val =[(i-1)*nbr+1,i*nbr,i-1]\n",
    "    plage.append(plage_val)\n",
    " \n",
    "    i=i+1 \n",
    "\n",
    "plage_val =[(i-1)*nbr+1,max,L-1]\n",
    "plage.append(plage_val)\n",
    "\n",
    "print(plage)\n",
    "for i in range(height_matrice):\n",
    "    for j in range(width_matrice): \n",
    "        x= matrice[i][j]\n",
    "        y=grey (x,plage)\n",
    "        matrice[i][j]=y\n",
    "\n",
    "        \n",
    "\n",
    "\n",
    "\n",
    "\n"
   ]
  },
  {
   "cell_type": "markdown",
   "metadata": {},
   "source": [
    "# Afficher l'image résultante"
   ]
  },
  {
   "cell_type": "code",
   "execution_count": 166,
   "metadata": {},
   "outputs": [
    {
     "data": {
      "text/plain": [
       "<matplotlib.image.AxesImage at 0x2b50ab3fd00>"
      ]
     },
     "execution_count": 166,
     "metadata": {},
     "output_type": "execute_result"
    },
    {
     "data": {
      "image/png": "[encoded data removed]",
      "text/plain": [
       "<Figure size 432x288 with 1 Axes>"
      ]
     },
     "metadata": {
      "needs_background": "light"
     },
     "output_type": "display_data"
    }
   ],
   "source": [
    "plt.imshow(matrice,cmap='gray')"
   ]
  },
  {
   "cell_type": "markdown",
   "metadata": {},
   "source": [
    "# Sauvegarder l'image résultante"
   ]
  },
  {
   "cell_type": "code",
   "execution_count": 167,
   "metadata": {},
   "outputs": [],
   "source": [
    "plt.imsave(\"résultat.png\", matrice, cmap='gray')"
   ]
  },
  {
   "cell_type": "markdown",
   "metadata": {},
   "source": [
    "# Lecture et affichage d'une autre image \n"
   ]
  },
  {
   "cell_type": "code",
   "execution_count": 168,
   "metadata": {
    "scrolled": true
   },
   "outputs": [],
   "source": [
    "# lecture de l'image en niveau de gris\n",
    "image = cv2.imread('toAdd.bmp',0)"
   ]
  },
  {
   "cell_type": "markdown",
   "metadata": {},
   "source": [
    "# Réaliser les operations sur l'image"
   ]
  },
  {
   "cell_type": "markdown",
   "metadata": {},
   "source": [
    "Addition des deux images"
   ]
  },
  {
   "cell_type": "code",
   "execution_count": 169,
   "metadata": {},
   "outputs": [],
   "source": [
    "def redimentionner (image1 , image2 ):\n",
    "    height , width = np.shape(image1)\n",
    "    imgResize = cv2.resize(image2, (width,height))\n",
    "    return imgResize"
   ]
  },
  {
   "cell_type": "code",
   "execution_count": 170,
   "metadata": {},
   "outputs": [],
   "source": [
    "def aditionner (image1 , image2):\n",
    "   \n",
    "    imageResize=redimentionner (image1 ,image2)\n",
    "\n",
    "    height , width =np.shape(image1)\n",
    "    matAdd = np.ones((height,width))\n",
    "    for i in range (height) :\n",
    "        for j in range(width) :\n",
    "            matAdd[i][j]=image1[i][j]+imageResize[i][j]\n",
    "\n",
    "    return matAdd        \n"
   ]
  },
  {
   "cell_type": "code",
   "execution_count": 171,
   "metadata": {},
   "outputs": [
    {
     "data": {
      "image/png": "[encoded data removed]",
      "text/plain": [
       "<Figure size 432x288 with 1 Axes>"
      ]
     },
     "metadata": {
      "needs_background": "light"
     },
     "output_type": "display_data"
    }
   ],
   "source": [
    "imgAdd= aditionner(image,matrice)\n",
    "plt.imshow(imgAdd,cmap='gray')\n",
    "plt.imsave(\"add.png\", imgAdd, cmap='gray')\n",
    "\n"
   ]
  },
  {
   "cell_type": "markdown",
   "metadata": {},
   "source": [
    "Negatif de l'image"
   ]
  },
  {
   "cell_type": "code",
   "execution_count": 172,
   "metadata": {},
   "outputs": [],
   "source": [
    "imgNeg=np.ones((height_matrice,width_matrice))\n",
    "for i in range(height_matrice):\n",
    "    for j in range(width_matrice):\n",
    "        imgNeg[i][j]=255-matrice[i][j]\n",
    "        \n"
   ]
  },
  {
   "cell_type": "code",
   "execution_count": 173,
   "metadata": {},
   "outputs": [
    {
     "data": {
      "image/png": "[encoded data removed]",
      "text/plain": [
       "<Figure size 432x288 with 1 Axes>"
      ]
     },
     "metadata": {
      "needs_background": "light"
     },
     "output_type": "display_data"
    }
   ],
   "source": [
    "\n",
    "# afficher l'image résultante\n",
    "plt.imshow(imgNeg,cmap='gray')\n",
    "plt.imsave(\"imgNeg.png\", imgNeg, cmap='gray')"
   ]
  }
 ],
 "metadata": {
  "interpreter": {
   "hash": "69c84f55b8e784944dc5099cc009b925ed5fb4216195c86f3ea8634751838217"
  },
  "kernelspec": {
   "display_name": "Python 3.9.0 64-bit",
   "name": "python3"
  },
  "language_info": {
   "codemirror_mode": {
    "name": "ipython",
    "version": 3
   },
   "file_extension": ".py",
   "mimetype": "text/x-python",
   "name": "python",
   "nbconvert_exporter": "python",
   "pygments_lexer": "ipython3",
   "version": "3.9.0"
  }
 },
 "nbformat": 4,
 "nbformat_minor": 2
}
